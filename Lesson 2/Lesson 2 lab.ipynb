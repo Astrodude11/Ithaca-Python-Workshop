{
 "cells": [
  {
   "cell_type": "markdown",
   "metadata": {},
   "source": [
    "# Lab - File I/O\n",
    "\n",
    "## ASCII Files\n",
    "\n",
    "### Exercise 1\n",
    "\n",
    "Write a function, **sumNumbers**, which opens a text file in read mode and returns the sum of the file's contents. Then call the function to open the file, **numbers.txt**, to print the sum. **Hint:** be sure to convert a string to an integer with **int()**.\n",
    "\n",
    "    define a function which accepts a file:\n",
    "        set sum variable to 0\n",
    "        open file\n",
    "        for each number (line) in file:\n",
    "            add value to sum variable\n",
    "            \n",
    "        return sum\n",
    "        \n",
    "    call function"
   ]
  },
  {
   "cell_type": "code",
   "execution_count": 1,
   "metadata": {},
   "outputs": [],
   "source": [
    "# Write code here"
   ]
  },
  {
   "cell_type": "markdown",
   "metadata": {},
   "source": [
    "### Exercise 2\n",
    "\n",
    "Write a function, **writeNumbers**, which writes to the existing **numbers.txt** file. The function should accept a filename and a list of numbers as parameters. Define a list of numbers then call **sumNumbers** again to calculate the new total.\n",
    "\n",
    "**Hints:**\n",
    "1.  use the correct mode to write to the file\n",
    "2.  convert each list item to a string in your function\n",
    "3.  each entry should be on a new line.\n",
    "\n",
    "        define function which accepts a file and a list:\n",
    "        open the file:\n",
    "            for each item (i.e. number) in the list:\n",
    "                write item to the file\n",
    "            \n",
    "        create a list of numbers\n",
    "        call sumNumbers"
   ]
  },
  {
   "cell_type": "code",
   "execution_count": 2,
   "metadata": {},
   "outputs": [],
   "source": [
    "# Write code here"
   ]
  },
  {
   "cell_type": "markdown",
   "metadata": {},
   "source": [
    "## FITS Files\n",
    "\n",
    "### Exercise 1\n",
    "\n",
    "1.  Create a random 1024 x 1024 NumPy array\n",
    "2.  Write the data array to a FITS file, **dummy.fits**\n",
    "3.  Define a dictionary, **keywords**, with at least 2 key-value pairs which describe a header keyword and value\n",
    "4.  Create an **HDU** object with **dummy.fits**\n",
    "5.  Update the HDU header object with **keywords**\n",
    "6.  Remove **dummy.fits** from the file system\n",
    "7.  Write the data and header information back into **dummy.fits**\n",
    "8.  Verify the data and header information was was written to the file\n",
    "\n",
    "**Hint:** Use a loop to iterate through the dictionary to add its items to the HDU header"
   ]
  },
  {
   "cell_type": "code",
   "execution_count": 3,
   "metadata": {},
   "outputs": [],
   "source": [
    "# Write code here"
   ]
  },
  {
   "cell_type": "markdown",
   "metadata": {},
   "source": [
    "### Exercise 2\n",
    "\n",
    "Find the mean flux for each of the spectral orders in **s3mc41455.a.lo.ac.fits** using the **AstroPy Table** or **Pandas**. We know the orders are 1, 2, 4, and 5. Fictional bonus point for both ways.\n",
    "\n",
    "If you use **Table** then you can approach this two ways:\n",
    "1.  Find the range of indices by manual inspection of the Table object for each spectral order\n",
    "2.  Iterate through the Table object and check the flux value for each row\n",
    "\n",
    "I recommend the second approach. See the pseudo code.\n",
    "\n",
    "    read FITS file into a Table object with appropriate column names\n",
    "    create an empty list for each order\n",
    "    for each line in Table:\n",
    "        if the spectral order == 1:\n",
    "            append flux value to order list 1\n",
    "        else if the spectral order == 2:\n",
    "            append flux value to order list 2\n",
    "        ...\n",
    "        ...\n",
    "\n",
    "    print the mean of each order list\n",
    "    \n",
    "To use **pandas**, refer to the lesson 2."
   ]
  },
  {
   "cell_type": "code",
   "execution_count": null,
   "metadata": {},
   "outputs": [],
   "source": [
    "# Write code here"
   ]
  }
 ],
 "metadata": {
  "kernelspec": {
   "display_name": "Python 2",
   "language": "python",
   "name": "python2"
  },
  "language_info": {
   "codemirror_mode": {
    "name": "ipython",
    "version": 2
   },
   "file_extension": ".py",
   "mimetype": "text/x-python",
   "name": "python",
   "nbconvert_exporter": "python",
   "pygments_lexer": "ipython2",
   "version": "2.7.5"
  }
 },
 "nbformat": 4,
 "nbformat_minor": 2
}
