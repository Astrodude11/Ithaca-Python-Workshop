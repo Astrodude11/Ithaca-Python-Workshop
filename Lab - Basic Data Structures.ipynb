{
 "cells": [
  {
   "cell_type": "markdown",
   "metadata": {},
   "source": [
    "# Lab - Basic Data Structures\n",
    "\n",
    "## Lists\n",
    "\n",
    "### Exercise 1\n",
    "\n",
    "Given the list, **Celsius**, use list comprehension to create a new list, **Fahrenheit**, which contains converts $^\\circ C$ to $^\\circ F$. Hint: the conversion equation is: T * 9/5 + 32."
   ]
  },
  {
   "cell_type": "code",
   "execution_count": 31,
   "metadata": {},
   "outputs": [],
   "source": [
    "Celsius = [39.2, 36.5, 37.3, 37.8]\n",
    "# Write your code here."
   ]
  },
  {
   "cell_type": "markdown",
   "metadata": {},
   "source": [
    "### Exercise 2\n",
    "\n",
    "Iterate through your Fahrenheit list to count the number of temperatures above the average temperature. Hint: use the numpy **.mean()** function to calculate the function. Use the following pseudo code as an example.\n",
    "\n",
    "    set counter for temperatures > average to 0\n",
    "    for each temperature in Fahrenheit list:\n",
    "        check if temperature is > average:\n",
    "            if true, then increment counter\n",
    "            \n",
    "    print counter\n"
   ]
  },
  {
   "cell_type": "code",
   "execution_count": 15,
   "metadata": {},
   "outputs": [],
   "source": [
    "# Write your code here"
   ]
  },
  {
   "cell_type": "code",
   "execution_count": null,
   "metadata": {},
   "outputs": [],
   "source": []
  }
 ],
 "metadata": {
  "kernelspec": {
   "display_name": "Python 2",
   "language": "python",
   "name": "python2"
  },
  "language_info": {
   "codemirror_mode": {
    "name": "ipython",
    "version": 2
   },
   "file_extension": ".py",
   "mimetype": "text/x-python",
   "name": "python",
   "nbconvert_exporter": "python",
   "pygments_lexer": "ipython2",
   "version": "2.7.5"
  }
 },
 "nbformat": 4,
 "nbformat_minor": 2
}
