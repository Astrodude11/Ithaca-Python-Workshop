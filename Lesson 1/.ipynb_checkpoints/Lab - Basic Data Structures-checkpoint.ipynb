{
 "cells": [
  {
   "cell_type": "markdown",
   "metadata": {},
   "source": [
    "# Lab - Basic Data Structures\n",
    "\n",
    "## Lists\n",
    "\n",
    "### Exercise 1\n",
    "\n",
    "Given the list, **Celsius**, use list comprehension to create a new list, **Fahrenheit**, which contains converts $^\\circ C$ to $^\\circ F$. Hint: the conversion equation is: T * 9/5 + 32."
   ]
  },
  {
   "cell_type": "code",
   "execution_count": 1,
   "metadata": {
    "collapsed": true
   },
   "outputs": [],
   "source": [
    "Celsius = [39.2, 36.5, 37.3, 37.8]\n",
    "# Write your code here."
   ]
  },
  {
   "cell_type": "markdown",
   "metadata": {},
   "source": [
    "### Exercise 2\n",
    "\n",
    "Iterate through your Fahrenheit list to count the number of temperatures above the average temperature. Hint: use the numpy **.mean()** function to calculate the function. Use the following pseudo code as an example.\n",
    "\n",
    "    set counter for temperatures > average to 0\n",
    "    for each temperature in Fahrenheit list:\n",
    "        check if temperature is > average:\n",
    "            if true, then increment counter\n",
    "            \n",
    "    print counter\n"
   ]
  },
  {
   "cell_type": "code",
   "execution_count": 2,
   "metadata": {
    "collapsed": true
   },
   "outputs": [],
   "source": [
    "# Write your code here"
   ]
  },
  {
   "cell_type": "markdown",
   "metadata": {},
   "source": [
    "## Dictionaries\n",
    "\n",
    "### Exercise 1\n",
    "\n",
    "Given the sentence, **woodchuck**, store each word as a key in a dictionary and the number of times that word appears as the key's value. Then print how many times each word occurs.\n",
    "\n",
    "**Hint:** See the pseudo code and use the method [.get()](https://www.tutorialspoint.com/python/dictionary_get.htm).\n",
    "\n",
    "    create empty dictionary\n",
    "    for each word in sentence:\n",
    "        set each word as a key and set the number of occurances as its value\n",
    "\n",
    "    for each word in dictionary:\n",
    "        print the value of each key"
   ]
  },
  {
   "cell_type": "code",
   "execution_count": 3,
   "metadata": {
    "collapsed": true
   },
   "outputs": [],
   "source": [
    "woodchuck = \"How much wood could a woodchuck chuck if a woodchuck could chuck wood? As much wood as a woodchuck could chuck if a woodchuck could chuck wood.\".split()"
   ]
  },
  {
   "cell_type": "code",
   "execution_count": 4,
   "metadata": {
    "collapsed": false
   },
   "outputs": [],
   "source": [
    "# write code here"
   ]
  },
  {
   "cell_type": "markdown",
   "metadata": {},
   "source": [
    "### Exercise 2\n",
    "\n",
    "Remember that I said a dictionary is used for FITS header information? Well, let's have some dictionary fun with NIRSPEC data from the Keck Observatory."
   ]
  },
  {
   "cell_type": "code",
   "execution_count": 5,
   "metadata": {
    "collapsed": true
   },
   "outputs": [],
   "source": [
    "# Read the FITS header. We will cover this in more detail in lession 2.\n",
    "from astropy.io import fits\n",
    "header = fits.getheader('NS.20100429.40280.fits')"
   ]
  },
  {
   "cell_type": "markdown",
   "metadata": {},
   "source": [
    "Use a for loop to print all of the header keywords"
   ]
  },
  {
   "cell_type": "code",
   "execution_count": 6,
   "metadata": {
    "collapsed": false
   },
   "outputs": [],
   "source": [
    "# Write code here"
   ]
  },
  {
   "cell_type": "markdown",
   "metadata": {},
   "source": [
    "Print the value of your favorite keyword"
   ]
  },
  {
   "cell_type": "code",
   "execution_count": 7,
   "metadata": {
    "collapsed": true
   },
   "outputs": [],
   "source": [
    "# Write code here"
   ]
  },
  {
   "cell_type": "markdown",
   "metadata": {},
   "source": [
    "Change the value of your favorite keyword"
   ]
  },
  {
   "cell_type": "code",
   "execution_count": 8,
   "metadata": {
    "collapsed": true
   },
   "outputs": [],
   "source": [
    "# Write code here"
   ]
  },
  {
   "cell_type": "markdown",
   "metadata": {},
   "source": [
    "For learning reinforcement purposes, use list comprehension to create a list of all header keywords"
   ]
  },
  {
   "cell_type": "code",
   "execution_count": 9,
   "metadata": {
    "collapsed": true
   },
   "outputs": [],
   "source": [
    "# Write code here"
   ]
  },
  {
   "cell_type": "markdown",
   "metadata": {},
   "source": [
    "Create a new header keyword and value then verify that it exists"
   ]
  },
  {
   "cell_type": "code",
   "execution_count": 10,
   "metadata": {
    "collapsed": true
   },
   "outputs": [],
   "source": [
    "# Write code here"
   ]
  },
  {
   "cell_type": "code",
   "execution_count": 11,
   "metadata": {
    "collapsed": false
   },
   "outputs": [
    {
     "name": "stdout",
     "output_type": "stream",
     "text": [
      "\n",
      "\n",
      "\n",
      "\n"
     ]
    }
   ],
   "source": [
    "for value in header.values():\n",
    "    if value == '':\n",
    "        print(value)"
   ]
  },
  {
   "cell_type": "code",
   "execution_count": null,
   "metadata": {
    "collapsed": true
   },
   "outputs": [],
   "source": []
  }
 ],
 "metadata": {
  "kernelspec": {
   "display_name": "Python [default]",
   "language": "python",
   "name": "python3"
  },
  "language_info": {
   "codemirror_mode": {
    "name": "ipython",
    "version": 3
   },
   "file_extension": ".py",
   "mimetype": "text/x-python",
   "name": "python",
   "nbconvert_exporter": "python",
   "pygments_lexer": "ipython3",
   "version": "3.5.2"
  }
 },
 "nbformat": 4,
 "nbformat_minor": 2
}
