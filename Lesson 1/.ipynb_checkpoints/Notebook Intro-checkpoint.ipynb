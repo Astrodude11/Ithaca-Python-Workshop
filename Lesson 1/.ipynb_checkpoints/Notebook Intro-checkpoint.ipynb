{
 "cells": [
  {
   "cell_type": "markdown",
   "metadata": {},
   "source": [
    "# Jupyter Notebooks\n",
    "\n",
    "Congratulations! If you're reading this then you know how to open a Jupyter Notebook. The purpose of this notebook is to introduce you to its features and superpowers.\n",
    "\n",
    "In brief, Jupter Notebooks are human-readable documents which contain both computer code (e.g. python) and rich text elements (paragraph, equations, figures, links, etc). They use an interactive python (iPython) kernel to interact with a shell and run code. For historical reference, they were formally called iPython Notebook.\n",
    "\n",
    "#### Resouces\n",
    "-  http://jupyter-notebook.readthedocs.io/en/stable/notebook.html\n",
    "-  https://jupyter.brynmawr.edu/services/public/dblank/Jupyter%20Notebook%20Users%20Manual.ipynb\n",
    "-  https://www.dataquest.io/blog/jupyter-notebook-tips-tricks-shortcuts/"
   ]
  },
  {
   "cell_type": "markdown",
   "metadata": {},
   "source": [
    "## Menu/Toolbar\n",
    "\n",
    "Take a look a look at the menus and toolbar at the top of the browser page. There are many actions (i.e. save, download, close) that are similar to working with a Word or PDF document that we won't cover.\n",
    "\n",
    "### Dashboard\n",
    "\n",
    "Navigate to **File --> Open** \n",
    "\n",
    "This opens the a new window with a view of the Dashboard. Think of the Dashboard as \"home\" which lists all files in your current working directory. Here you will see the file Notebook Intro.ipynb which is this notebook. Active or running notebooks, such as this one, will have a green icon and inactive or closed notebooks will have a gray icon.\n",
    "\n",
    "On the Dashboard you can select a single or multiple notebooks to view, edit, shutdown (close), or delete. Note, you can only shutdown active running notebooks."
   ]
  },
  {
   "cell_type": "markdown",
   "metadata": {},
   "source": [
    "## Cells\n",
    "\n",
    "Jupyter Notebooks contain different types of editable cells. You can change the cell type by navigating to **Cell --> Cell Type** on the toolbar.\n",
    "\n",
    "### Markdown cell\n",
    "\n",
    "The type of this cell is Markdown which allows easy to read and write plain text. For instance, you can uses different heading styles, bullet points, numbered lists, bold font, etc. Check out this __[cheat sheet](https://medium.com/ibm-data-science-experience/markdown-for-jupyter-notebooks-cheatsheet-386c05aeebed)__\n",
    "\n",
    "### Code cell\n",
    "\n",
    "A code cell contains raw code. Think of it as an interactive text editor which allows you to run your code.\n",
    "\n",
    "### Running cells\n",
    "\n",
    "Press shift + enter to run an individual cell. Navigate to **Cell --> Run All** to run all the cells in your notebook. Note different actions such as **Run All Above** and **Run All Below**.\n",
    "\n",
    "### Inserting cells\n",
    "\n",
    "Navigate to **Insert --> Install Cell Below** to create your first cell and print something.\n",
    "\n",
    "### Deleting cells\n",
    "\n",
    "Navigate to **Edit --> Delete Cell**"
   ]
  },
  {
   "cell_type": "code",
   "execution_count": null,
   "metadata": {
    "collapsed": true
   },
   "outputs": [],
   "source": [
    "print('Hello, Ithaca!') # This is a code cell. "
   ]
  },
  {
   "cell_type": "markdown",
   "metadata": {},
   "source": [
    "## The Basics\n",
    "\n",
    "### Shell integration\n",
    "\n",
    "I mentioned that notebooks use IPython to interact with a shell. This means you can run linux commands in your notebook rather than opening up a seperate terminal or writing full python code to run the same command.\n",
    "\n",
    "Run (shift + enter) the follwing cells then try your own"
   ]
  },
  {
   "cell_type": "code",
   "execution_count": null,
   "metadata": {
    "collapsed": true
   },
   "outputs": [],
   "source": [
    "ls # the same as os.listdir('.')"
   ]
  },
  {
   "cell_type": "code",
   "execution_count": null,
   "metadata": {
    "collapsed": true
   },
   "outputs": [],
   "source": [
    "pwd # the same as os.getcwd()"
   ]
  },
  {
   "cell_type": "code",
   "execution_count": null,
   "metadata": {
    "collapsed": true
   },
   "outputs": [],
   "source": [
    "!echo python"
   ]
  },
  {
   "cell_type": "code",
   "execution_count": null,
   "metadata": {
    "collapsed": true
   },
   "outputs": [],
   "source": [
    "files = !ls # the same as files = os.listdir('.')\n",
    "print(files)"
   ]
  },
  {
   "cell_type": "markdown",
   "metadata": {},
   "source": [
    "### Help features\n",
    "\n",
    "#### Tab completion\n",
    "Have you ever wanted to call a method or function but forgot its name? Have no fear, tab completion is here! \n",
    "\n",
    "For example, type r and then tab in a code cell to see a list of existing names that begin with r. Note, this will include variables you've defined as well as built-in or imported names"
   ]
  },
  {
   "cell_type": "code",
   "execution_count": null,
   "metadata": {
    "collapsed": true
   },
   "outputs": [],
   "source": [
    "r"
   ]
  },
  {
   "cell_type": "markdown",
   "metadata": {},
   "source": [
    "#### Documentation\n",
    "Forgot what a method or function does or returns? Type the name followed with a **?** to view its documentation. Try it below."
   ]
  },
  {
   "cell_type": "code",
   "execution_count": null,
   "metadata": {
    "collapsed": true
   },
   "outputs": [],
   "source": [
    "range?"
   ]
  },
  {
   "cell_type": "markdown",
   "metadata": {},
   "source": [
    "### LaTeX\n",
    "\n",
    "You can put nicely rendered equations into Markdown cells.\n",
    "\n",
    "#### Inline equations\n",
    "\n",
    "Use single dollar signs around your equation for inline equations. For example, E = mc^2 is rendered as $E = mc^2$.\n",
    "\n",
    "#### Block equations \n",
    "\n",
    "Use double dollar signs around your equation for block equations. For example, f(x) = \\int_0^x sin(\\theta) d{\\theta} is rendered as: $$f(x) = \\int_0^x sin(\\theta) d{\\theta}$$\n",
    "\n"
   ]
  }
 ],
 "metadata": {
  "kernelspec": {
   "display_name": "Python [default]",
   "language": "python",
   "name": "python3"
  },
  "language_info": {
   "codemirror_mode": {
    "name": "ipython",
    "version": 3
   },
   "file_extension": ".py",
   "mimetype": "text/x-python",
   "name": "python",
   "nbconvert_exporter": "python",
   "pygments_lexer": "ipython3",
   "version": "3.5.2"
  }
 },
 "nbformat": 4,
 "nbformat_minor": 2
}
